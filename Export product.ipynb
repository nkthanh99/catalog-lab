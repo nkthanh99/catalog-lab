{
 "cells": [
  {
   "cell_type": "code",
   "execution_count": 197,
   "metadata": {},
   "outputs": [],
   "source": [
    "from dask import distributed\n",
    "import pandas as pd"
   ]
  },
  {
   "cell_type": "code",
   "execution_count": 184,
   "metadata": {},
   "outputs": [
    {
     "name": "stderr",
     "output_type": "stream",
     "text": [
      "/Users/nkthanh/opt/anaconda3/lib/python3.7/site-packages/distributed/dashboard/core.py:72: UserWarning: \n",
      "Port 8787 is already in use. \n",
      "Perhaps you already have a cluster running?\n",
      "Hosting the diagnostics dashboard on a random port instead.\n",
      "  warnings.warn(\"\\n\" + msg)\n"
     ]
    },
    {
     "name": "stdout",
     "output_type": "stream",
     "text": [
      "CPU times: user 103 ms, sys: 28.5 ms, total: 132 ms\n",
      "Wall time: 228 ms\n"
     ]
    }
   ],
   "source": [
    "%%time\n",
    "cluster = distributed.LocalCluster(n_workers=8)\n",
    "client = distributed.Client(cluster)"
   ]
  },
  {
   "cell_type": "code",
   "execution_count": 185,
   "metadata": {},
   "outputs": [
    {
     "data": {
      "text/html": [
       "<table style=\"border: 2px solid white;\">\n",
       "<tr>\n",
       "<td style=\"vertical-align: top; border: 0px solid white\">\n",
       "<h3 style=\"text-align: left;\">Client</h3>\n",
       "<ul style=\"text-align: left; list-style: none; margin: 0; padding: 0;\">\n",
       "  <li><b>Scheduler: </b>tcp://127.0.0.1:53341</li>\n",
       "  <li><b>Dashboard: </b><a href='http://127.0.0.1:53342/status' target='_blank'>http://127.0.0.1:53342/status</a>\n",
       "</ul>\n",
       "</td>\n",
       "<td style=\"vertical-align: top; border: 0px solid white\">\n",
       "<h3 style=\"text-align: left;\">Cluster</h3>\n",
       "<ul style=\"text-align: left; list-style:none; margin: 0; padding: 0;\">\n",
       "  <li><b>Workers: </b>8</li>\n",
       "  <li><b>Cores: </b>8</li>\n",
       "  <li><b>Memory: </b>8.59 GB</li>\n",
       "</ul>\n",
       "</td>\n",
       "</tr>\n",
       "</table>"
      ],
      "text/plain": [
       "<Client: 'tcp://127.0.0.1:53341' processes=8 threads=8, memory=8.59 GB>"
      ]
     },
     "execution_count": 185,
     "metadata": {},
     "output_type": "execute_result"
    }
   ],
   "source": [
    "client"
   ]
  },
  {
   "cell_type": "code",
   "execution_count": 250,
   "metadata": {},
   "outputs": [
    {
     "name": "stdout",
     "output_type": "stream",
     "text": [
      "SELECT id FROM products WHERE category_id = %s AND is_bundle = %s LIMIT 1000\n",
      "Number of products 300\n",
      "Number of chunks 3\n",
      "CPU times: user 49.3 ms, sys: 8.54 ms, total: 57.9 ms\n",
      "Wall time: 146 ms\n"
     ]
    },
    {
     "data": {
      "text/plain": [
       "(300, 26)"
      ]
     },
     "execution_count": 250,
     "metadata": {},
     "output_type": "execute_result"
    }
   ],
   "source": [
    "%%time\n",
    "%run common.py\n",
    "\n",
    "product_ids = get_product_id({'category_id': 1069, 'is_bundle': True})\n",
    "# product_ids = get_product_id({'category_id': 15})\n",
    "chunks = break_arr(product_ids, chunk_size=200)\n",
    "\n",
    "print(f'Number of products {len(product_ids)}')\n",
    "print(f'Number of chunks {len(chunks)}')\n",
    "\n",
    "futures = []\n",
    "for chunk in chunks:\n",
    "    future = client.submit(load_products, chunk)\n",
    "    futures.append(future)\n",
    "    \n",
    "df = pd.concat([pd.DataFrame(result) for result in client.gather(futures)])\n",
    "df.shape"
   ]
  },
  {
   "cell_type": "code",
   "execution_count": 251,
   "metadata": {},
   "outputs": [
    {
     "data": {
      "text/html": [
       "<div>\n",
       "<style scoped>\n",
       "    .dataframe tbody tr th:only-of-type {\n",
       "        vertical-align: middle;\n",
       "    }\n",
       "\n",
       "    .dataframe tbody tr th {\n",
       "        vertical-align: top;\n",
       "    }\n",
       "\n",
       "    .dataframe thead th {\n",
       "        text-align: right;\n",
       "    }\n",
       "</style>\n",
       "<table border=\"1\" class=\"dataframe\">\n",
       "  <thead>\n",
       "    <tr style=\"text-align: right;\">\n",
       "      <th></th>\n",
       "      <th>Type</th>\n",
       "      <th>Name</th>\n",
       "      <th>Seller SKU</th>\n",
       "      <th>Category</th>\n",
       "      <th>Brand</th>\n",
       "      <th>Color</th>\n",
       "      <th>Model</th>\n",
       "      <th>Part number</th>\n",
       "      <th>Barcode</th>\n",
       "      <th>Unit</th>\n",
       "      <th>...</th>\n",
       "      <th>Width</th>\n",
       "      <th>Height</th>\n",
       "      <th>Short description</th>\n",
       "      <th>Description</th>\n",
       "      <th>Display name</th>\n",
       "      <th>meta keyword</th>\n",
       "      <th>Meta Description</th>\n",
       "      <th>Sale category</th>\n",
       "      <th>Tax in</th>\n",
       "      <th>Tax out</th>\n",
       "    </tr>\n",
       "  </thead>\n",
       "  <tbody>\n",
       "    <tr>\n",
       "      <td>0</td>\n",
       "      <td>Bundle</td>\n",
       "      <td>S 0609 1k 2</td>\n",
       "      <td>None</td>\n",
       "      <td>Bé ngủ</td>\n",
       "      <td>1More</td>\n",
       "      <td>Nâu</td>\n",
       "      <td>M124</td>\n",
       "      <td>P13</td>\n",
       "      <td>None</td>\n",
       "      <td>Chiếc</td>\n",
       "      <td>...</td>\n",
       "      <td>17.0</td>\n",
       "      <td>17.0</td>\n",
       "      <td>Mô tả ngắn</td>\n",
       "      <td>None</td>\n",
       "      <td>SEO name</td>\n",
       "      <td>Meta Keywords</td>\n",
       "      <td>Meta Description</td>\n",
       "      <td>Miếng lót sơ sinh</td>\n",
       "      <td>None</td>\n",
       "      <td>None</td>\n",
       "    </tr>\n",
       "    <tr>\n",
       "      <td>1</td>\n",
       "      <td>Bundle</td>\n",
       "      <td>S 0609 1k 5</td>\n",
       "      <td>None</td>\n",
       "      <td>Bé ngủ</td>\n",
       "      <td>1More</td>\n",
       "      <td>Nâu</td>\n",
       "      <td>M127</td>\n",
       "      <td>P16</td>\n",
       "      <td>None</td>\n",
       "      <td>Chiếc</td>\n",
       "      <td>...</td>\n",
       "      <td>17.0</td>\n",
       "      <td>17.0</td>\n",
       "      <td>Mô tả ngắn</td>\n",
       "      <td>None</td>\n",
       "      <td>SEO name</td>\n",
       "      <td>Meta Keywords</td>\n",
       "      <td>Meta Description</td>\n",
       "      <td>Miếng lót sơ sinh</td>\n",
       "      <td>None</td>\n",
       "      <td>None</td>\n",
       "    </tr>\n",
       "    <tr>\n",
       "      <td>2</td>\n",
       "      <td>Bundle</td>\n",
       "      <td>S 0609 1k 8</td>\n",
       "      <td>None</td>\n",
       "      <td>Bé ngủ</td>\n",
       "      <td>1More</td>\n",
       "      <td>Nâu</td>\n",
       "      <td>M130</td>\n",
       "      <td>P19</td>\n",
       "      <td>None</td>\n",
       "      <td>Chiếc</td>\n",
       "      <td>...</td>\n",
       "      <td>17.0</td>\n",
       "      <td>17.0</td>\n",
       "      <td>Mô tả ngắn</td>\n",
       "      <td>None</td>\n",
       "      <td>SEO name</td>\n",
       "      <td>Meta Keywords</td>\n",
       "      <td>Meta Description</td>\n",
       "      <td>Miếng lót sơ sinh</td>\n",
       "      <td>None</td>\n",
       "      <td>None</td>\n",
       "    </tr>\n",
       "    <tr>\n",
       "      <td>3</td>\n",
       "      <td>Bundle</td>\n",
       "      <td>S 0609 1k 12</td>\n",
       "      <td>None</td>\n",
       "      <td>Bé ngủ</td>\n",
       "      <td>1More</td>\n",
       "      <td>Nâu</td>\n",
       "      <td>M124</td>\n",
       "      <td>P13</td>\n",
       "      <td>None</td>\n",
       "      <td>Chiếc</td>\n",
       "      <td>...</td>\n",
       "      <td>17.0</td>\n",
       "      <td>17.0</td>\n",
       "      <td>Mô tả ngắn</td>\n",
       "      <td>None</td>\n",
       "      <td>SEO name</td>\n",
       "      <td>Meta Keywords</td>\n",
       "      <td>Meta Description</td>\n",
       "      <td>Miếng lót sơ sinh</td>\n",
       "      <td>None</td>\n",
       "      <td>None</td>\n",
       "    </tr>\n",
       "    <tr>\n",
       "      <td>4</td>\n",
       "      <td>Bundle</td>\n",
       "      <td>S 0609 1k 15</td>\n",
       "      <td>None</td>\n",
       "      <td>Bé ngủ</td>\n",
       "      <td>1More</td>\n",
       "      <td>Nâu</td>\n",
       "      <td>M127</td>\n",
       "      <td>P16</td>\n",
       "      <td>None</td>\n",
       "      <td>Chiếc</td>\n",
       "      <td>...</td>\n",
       "      <td>17.0</td>\n",
       "      <td>17.0</td>\n",
       "      <td>Mô tả ngắn</td>\n",
       "      <td>None</td>\n",
       "      <td>SEO name</td>\n",
       "      <td>Meta Keywords</td>\n",
       "      <td>Meta Description</td>\n",
       "      <td>Miếng lót sơ sinh</td>\n",
       "      <td>None</td>\n",
       "      <td>None</td>\n",
       "    </tr>\n",
       "  </tbody>\n",
       "</table>\n",
       "<p>5 rows × 26 columns</p>\n",
       "</div>"
      ],
      "text/plain": [
       "     Type          Name Seller SKU Category  Brand Color Model Part number  \\\n",
       "0  Bundle   S 0609 1k 2       None   Bé ngủ  1More   Nâu  M124         P13   \n",
       "1  Bundle   S 0609 1k 5       None   Bé ngủ  1More   Nâu  M127         P16   \n",
       "2  Bundle   S 0609 1k 8       None   Bé ngủ  1More   Nâu  M130         P19   \n",
       "3  Bundle  S 0609 1k 12       None   Bé ngủ  1More   Nâu  M124         P13   \n",
       "4  Bundle  S 0609 1k 15       None   Bé ngủ  1More   Nâu  M127         P16   \n",
       "\n",
       "  Barcode   Unit  ... Width Height  Short description Description  \\\n",
       "0    None  Chiếc  ...  17.0   17.0         Mô tả ngắn        None   \n",
       "1    None  Chiếc  ...  17.0   17.0         Mô tả ngắn        None   \n",
       "2    None  Chiếc  ...  17.0   17.0         Mô tả ngắn        None   \n",
       "3    None  Chiếc  ...  17.0   17.0         Mô tả ngắn        None   \n",
       "4    None  Chiếc  ...  17.0   17.0         Mô tả ngắn        None   \n",
       "\n",
       "   Display name   meta keyword  Meta Description      Sale category Tax in  \\\n",
       "0      SEO name  Meta Keywords  Meta Description  Miếng lót sơ sinh   None   \n",
       "1      SEO name  Meta Keywords  Meta Description  Miếng lót sơ sinh   None   \n",
       "2      SEO name  Meta Keywords  Meta Description  Miếng lót sơ sinh   None   \n",
       "3      SEO name  Meta Keywords  Meta Description  Miếng lót sơ sinh   None   \n",
       "4      SEO name  Meta Keywords  Meta Description  Miếng lót sơ sinh   None   \n",
       "\n",
       "  Tax out  \n",
       "0    None  \n",
       "1    None  \n",
       "2    None  \n",
       "3    None  \n",
       "4    None  \n",
       "\n",
       "[5 rows x 26 columns]"
      ]
     },
     "execution_count": 251,
     "metadata": {},
     "output_type": "execute_result"
    }
   ],
   "source": [
    "df.head()"
   ]
  }
 ],
 "metadata": {
  "kernelspec": {
   "display_name": "Python 3",
   "language": "python",
   "name": "python3"
  },
  "language_info": {
   "codemirror_mode": {
    "name": "ipython",
    "version": 3
   },
   "file_extension": ".py",
   "mimetype": "text/x-python",
   "name": "python",
   "nbconvert_exporter": "python",
   "pygments_lexer": "ipython3",
   "version": "3.7.4"
  }
 },
 "nbformat": 4,
 "nbformat_minor": 4
}
